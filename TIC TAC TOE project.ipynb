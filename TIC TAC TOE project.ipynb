{
 "cells": [
  {
   "cell_type": "code",
   "execution_count": 1,
   "id": "15daf938",
   "metadata": {},
   "outputs": [],
   "source": [
    "import random \n",
    "\n",
    "board = [' '] * 10\n",
    "computer = 'X'\n",
    "human = 'O'"
   ]
  },
  {
   "cell_type": "code",
   "execution_count": 2,
   "id": "3f6914fc",
   "metadata": {},
   "outputs": [],
   "source": [
    "def display_board(board):\n",
    "    print(f'{board[1]} | {board[2]} |{board[3]}')\n",
    "    print(f'{board[4]} | {board[5]} |{board[6]}')\n",
    "    print(f'{board[7]} | {board[8]} |{board[9]}')\n",
    "    print('-' * 10)\n"
   ]
  },
  {
   "cell_type": "code",
   "execution_count": 3,
   "id": "299cc387",
   "metadata": {},
   "outputs": [],
   "source": [
    "def check_win():\n",
    "    if board[1] == board[2] == board[3] and board[1] != ' ':\n",
    "        return True\n",
    "    elif board[4] == board[5] == board[6] and board[4] != ' ':\n",
    "        return True\n",
    "    elif board[7] == board[8] == board[9] and board[7] != ' ':\n",
    "        return True\n",
    "    elif board[1] == board[4] == board[7] and board[1] != ' ':\n",
    "        return True\n",
    "    elif board[2] == board[5] == board[8] and board[2] != ' ':\n",
    "        return True\n",
    "    elif board[3] == board[6] == board[9] and board[3] != ' ':\n",
    "        return True\n",
    "    elif board[1] == board[5] == board[9] and board[1] != ' ':\n",
    "        return True\n",
    "    elif board[7] == board[5] == board[3] and board[7] != ' ':\n",
    "        return True\n",
    "    else:\n",
    "        return False\n"
   ]
  },
  {
   "cell_type": "code",
   "execution_count": 4,
   "id": "49594075",
   "metadata": {},
   "outputs": [],
   "source": [
    "def check_draw():\n",
    "    if board.count(' ') < 2:\n",
    "        return True\n",
    "    else:\n",
    "        return False"
   ]
  },
  {
   "cell_type": "code",
   "execution_count": 5,
   "id": "1d31d3f1",
   "metadata": {},
   "outputs": [],
   "source": [
    "def is_available(pos):\n",
    "    return True if board[pos] == ' ' else False\n"
   ]
  },
  {
   "cell_type": "code",
   "execution_count": 6,
   "id": "6a3b020c",
   "metadata": {},
   "outputs": [],
   "source": [
    "def insert(letter, pos):\n",
    "    if is_available(pos):\n",
    "        board[pos] = letter\n",
    "        display_board(board)\n",
    "        if check_win():\n",
    "            if letter == 'X':\n",
    "                print(\"Computer Wins\")\n",
    "                exit()\n",
    "            else:\n",
    "                print(\"Human wins\")\n",
    "                exit()\n",
    "        if check_draw():\n",
    "            print(\"Draw\")\n",
    "            exit()\n",
    "    else:\n",
    "        if letter == 'O':\n",
    "            pos = int(input(\"Not Free! Please re-enter a position\"))\n",
    "        else:\n",
    "            pos = random.randint(1, 9)\n",
    "        insert(letter, pos)"
   ]
  },
  {
   "cell_type": "code",
   "execution_count": 7,
   "id": "a80bbf7c",
   "metadata": {},
   "outputs": [],
   "source": [
    "def human_move(letter):\n",
    "    pos = int(input(\"Enter the position to insert:\"))\n",
    "    insert(letter, pos)\n"
   ]
  },
  {
   "cell_type": "code",
   "execution_count": 8,
   "id": "70e427e2",
   "metadata": {},
   "outputs": [],
   "source": [
    "def computer_move(letter):\n",
    "    pos = random.randint(1, 9)\n",
    "    insert(letter, pos)\n",
    "\n"
   ]
  },
  {
   "cell_type": "code",
   "execution_count": 9,
   "id": "4f7903cd",
   "metadata": {},
   "outputs": [
    {
     "name": "stdout",
     "output_type": "stream",
     "text": [
      "  |   | \n",
      "  |   | \n",
      "  |   | \n",
      "----------\n",
      "  |   | \n",
      "  |   |X\n",
      "  |   | \n",
      "----------\n",
      "Enter the position to insert:1\n",
      "O |   | \n",
      "  |   |X\n",
      "  |   | \n",
      "----------\n",
      "O |   | \n",
      "  |   |X\n",
      "  |   | \n",
      "----------\n",
      "O |   | \n",
      "  | X |X\n",
      "  |   | \n",
      "----------\n",
      "Enter the position to insert:4\n",
      "O |   | \n",
      "O | X |X\n",
      "  |   | \n",
      "----------\n",
      "O |   | \n",
      "O | X |X\n",
      "  |   | \n",
      "----------\n",
      "O |   |X\n",
      "O | X |X\n",
      "  |   | \n",
      "----------\n",
      "Enter the position to insert:7\n",
      "O |   |X\n",
      "O | X |X\n",
      "O |   | \n",
      "----------\n",
      "Human wins\n"
     ]
    }
   ],
   "source": [
    "while not check_win():\n",
    "    display_board(board)\n",
    "    computer_move(computer)\n",
    "    human_move(human)"
   ]
  },
  {
   "cell_type": "code",
   "execution_count": null,
   "id": "5b5c7fd0",
   "metadata": {},
   "outputs": [],
   "source": []
  }
 ],
 "metadata": {
  "kernelspec": {
   "display_name": "Python 3 (ipykernel)",
   "language": "python",
   "name": "python3"
  },
  "language_info": {
   "codemirror_mode": {
    "name": "ipython",
    "version": 3
   },
   "file_extension": ".py",
   "mimetype": "text/x-python",
   "name": "python",
   "nbconvert_exporter": "python",
   "pygments_lexer": "ipython3",
   "version": "3.11.5"
  }
 },
 "nbformat": 4,
 "nbformat_minor": 5
}
